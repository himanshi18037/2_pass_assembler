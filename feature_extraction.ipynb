{
  "nbformat": 4,
  "nbformat_minor": 0,
  "metadata": {
    "colab": {
      "name": "feature_extraction.ipynb",
      "provenance": [],
      "collapsed_sections": [],
      "authorship_tag": "ABX9TyOgskav/pgCLGB/M9SNBD88",
      "include_colab_link": true
    },
    "kernelspec": {
      "name": "python3",
      "display_name": "Python 3"
    }
  },
  "cells": [
    {
      "cell_type": "markdown",
      "metadata": {
        "id": "view-in-github",
        "colab_type": "text"
      },
      "source": [
        "<a href=\"https://colab.research.google.com/github/himanshi18037/2_pass_assembler/blob/master/feature_extraction.ipynb\" target=\"_parent\"><img src=\"https://colab.research.google.com/assets/colab-badge.svg\" alt=\"Open In Colab\"/></a>"
      ]
    },
    {
      "cell_type": "code",
      "metadata": {
        "colab": {
          "base_uri": "https://localhost:8080/"
        },
        "id": "8oEVW5qTe2dj",
        "outputId": "1133b824-d06f-4dce-d1e1-c6d08a2c3ee2"
      },
      "source": [
        "url = input()\n"
      ],
      "execution_count": null,
      "outputs": [
        {
          "output_type": "stream",
          "text": [
            "https://www.iiitd.ac.in/\n"
          ],
          "name": "stdout"
        }
      ]
    },
    {
      "cell_type": "code",
      "metadata": {
        "colab": {
          "base_uri": "https://localhost:8080/"
        },
        "id": "5C80foD3wCCS",
        "outputId": "82d5060e-144f-45be-8d36-be6f692f77af"
      },
      "source": [
        "def to_find_having_ip_add(url):\n",
        "  import string\n",
        "  index = url.find(\"://\")\n",
        "  split_url = url[index+3:]\n",
        "  # print(split_url)\n",
        "  index = split_url.find(\"/\")\n",
        "  split_url = split_url[:index]\n",
        "  # print(split_url)\n",
        "  split_url = split_url.replace(\".\", \"\")\n",
        "  # print(split_url)\n",
        "  counter_hex = 0\n",
        "  for i in split_url:\n",
        "    if i in string.hexdigits:\n",
        "      counter_hex +=1\n",
        "\n",
        "  total_len = len(split_url)\n",
        "  having_IP_Address = 1\n",
        "  if counter_hex >= total_len:\n",
        "    having_IP_Address = -1\n",
        "\n",
        "  return having_IP_Address\n",
        "\n",
        "to_find_having_ip_add(url)"
      ],
      "execution_count": null,
      "outputs": [
        {
          "output_type": "execute_result",
          "data": {
            "text/plain": [
              "1"
            ]
          },
          "metadata": {
            "tags": []
          },
          "execution_count": 47
        }
      ]
    },
    {
      "cell_type": "code",
      "metadata": {
        "colab": {
          "base_uri": "https://localhost:8080/"
        },
        "id": "7tG9JYR7z0uq",
        "outputId": "0c3dffa9-2e2c-4df8-e37b-6d5ca582788f"
      },
      "source": [
        "def to_find_url_len(url):\n",
        "  URL_Length = 1\n",
        "  if len(url)>=75:\n",
        "    URL_Length = -1\n",
        "  elif len(url)>=54 and len(url)<=74:\n",
        "    URL_length = 0\n",
        "  \n",
        "  return URL_Length\n",
        "\n",
        "to_find_url_len(url)"
      ],
      "execution_count": null,
      "outputs": [
        {
          "output_type": "execute_result",
          "data": {
            "text/plain": [
              "1"
            ]
          },
          "metadata": {
            "tags": []
          },
          "execution_count": 41
        }
      ]
    },
    {
      "cell_type": "code",
      "metadata": {
        "id": "YlD4LylVzu0D",
        "colab": {
          "base_uri": "https://localhost:8080/"
        },
        "outputId": "1fd23f4f-b74d-4f1c-cc83-31f56cbc77ff"
      },
      "source": [
        "def to_find_at(url):\n",
        "  label = 1\n",
        "  index = url.find(\"@\")\n",
        "  if index!=-1:\n",
        "    label = -1\n",
        "  \n",
        "  return label\n",
        "\n",
        "to_find_at(url)"
      ],
      "execution_count": null,
      "outputs": [
        {
          "output_type": "execute_result",
          "data": {
            "text/plain": [
              "1"
            ]
          },
          "metadata": {
            "tags": []
          },
          "execution_count": 42
        }
      ]
    },
    {
      "cell_type": "code",
      "metadata": {
        "colab": {
          "base_uri": "https://localhost:8080/"
        },
        "id": "uR5ORW_31Ahg",
        "outputId": "3961f600-bcce-421f-ca58-725f8423f143"
      },
      "source": [
        "def to_find_redirect(url):\n",
        "  index = url.find(\"://\")\n",
        "  split_url = url[index+3:]\n",
        "  label = 1\n",
        "  index = split_url.find(\"//\")\n",
        "  if index!=-1:\n",
        "    label = -1\n",
        "  \n",
        "  return label\n",
        "  \n",
        "to_find_redirect(url)"
      ],
      "execution_count": null,
      "outputs": [
        {
          "output_type": "execute_result",
          "data": {
            "text/plain": [
              "1"
            ]
          },
          "metadata": {
            "tags": []
          },
          "execution_count": 43
        }
      ]
    },
    {
      "cell_type": "code",
      "metadata": {
        "colab": {
          "base_uri": "https://localhost:8080/"
        },
        "id": "th99kf6b1vbv",
        "outputId": "5ce640ab-437f-4976-d7da-a71e280ab394"
      },
      "source": [
        "def to_find_prefix(url):\n",
        "  index = url.find(\"://\")\n",
        "  split_url = url[index+3:]\n",
        "  # print(split_url)\n",
        "  index = split_url.find(\"/\")\n",
        "  split_url = split_url[:index]\n",
        "  # print(split_url)\n",
        "  label = 1\n",
        "  index = split_url.find(\"-\")\n",
        "  # print(index)\n",
        "  if index!=-1:\n",
        "    label = -1\n",
        "  \n",
        "  return label\n",
        "\n",
        "to_find_prefix(url)"
      ],
      "execution_count": null,
      "outputs": [
        {
          "output_type": "execute_result",
          "data": {
            "text/plain": [
              "1"
            ]
          },
          "metadata": {
            "tags": []
          },
          "execution_count": 44
        }
      ]
    },
    {
      "cell_type": "code",
      "metadata": {
        "colab": {
          "base_uri": "https://localhost:8080/"
        },
        "id": "_Jjh7bA63Yd7",
        "outputId": "75ca2541-e948-438a-cc7f-2ae9223fc610"
      },
      "source": [
        "def to_find_multi_domains(url):\n",
        "  index = url.find(\"www.\")\n",
        "  split_url = url\n",
        "  if index!=-1:\n",
        "    split_url = url[index+4:]\n",
        "  # print(split_url)\n",
        "  index = split_url.rfind(\".\")\n",
        "  # print(index)\n",
        "  if index!=-1:\n",
        "    split_url = split_url[:index]\n",
        "  # print(split_url)\n",
        "  counter = 0\n",
        "  for i in split_url:\n",
        "    if i==\".\":\n",
        "      counter+=1\n",
        "  \n",
        "  label = 1\n",
        "  if counter==2:\n",
        "    label = 0\n",
        "  elif counter >=3:\n",
        "    label = -1\n",
        "  \n",
        "  return label\n",
        "\n",
        "to_find_multi_domains(url)\n",
        "\n"
      ],
      "execution_count": null,
      "outputs": [
        {
          "output_type": "execute_result",
          "data": {
            "text/plain": [
              "-1"
            ]
          },
          "metadata": {
            "tags": []
          },
          "execution_count": 48
        }
      ]
    },
    {
      "cell_type": "code",
      "metadata": {
        "colab": {
          "base_uri": "https://localhost:8080/"
        },
        "id": "92IIPRAv7K8u",
        "outputId": "f091978b-1a79-49b1-aec6-6a5c87a9c46c"
      },
      "source": [
        "from subprocess import Popen, PIPE\n",
        "def to_find_authority(url):\n",
        "  index_https = url.find(\"https://\")\n",
        "  valid_auth = [\"GeoTrust\", \"GoDaddy\", \"Network Solutions\", \"Thawte\", \"Comodo\", \"Doster\" , \"VeriSign\", \"LinkedIn\", \"Sectigo\",\n",
        "                \"Symantec\", \"DigiCert\", \"Network Solutions\", \"RapidSSLonline\", \"SSL.com\", \"Entrust Datacard\", \"Google\", \"Facebook\"]\n",
        "  \n",
        "  cmd = \"curl -vvI \" + url\n",
        "\n",
        "  stdout = Popen(cmd, shell=True, stderr=PIPE, env={}).stderr\n",
        "  output = stdout.read()\n",
        "  std_out = output.decode('UTF-8')\n",
        "  index = std_out.find(\"O=\")\n",
        "\n",
        "  split = std_out[index+2:]\n",
        "  index_sp = split.find(\" \")\n",
        "  cur = split[:index_sp]\n",
        "  \n",
        "  index_sp = cur.find(\",\")\n",
        "  if index_sp!=-1:\n",
        "    cur = cur[:index_sp]\n",
        "  print(cur)\n",
        "  label = -1\n",
        "  if cur in valid_auth and index_https!=-1:\n",
        "    label = 1\n",
        "  \n",
        "  return label\n",
        "\n",
        "to_find_authority(url)\n"
      ],
      "execution_count": null,
      "outputs": [
        {
          "output_type": "stream",
          "text": [
            "Sectigo\n"
          ],
          "name": "stdout"
        },
        {
          "output_type": "execute_result",
          "data": {
            "text/plain": [
              "1"
            ]
          },
          "metadata": {
            "tags": []
          },
          "execution_count": 45
        }
      ]
    }
  ]
}